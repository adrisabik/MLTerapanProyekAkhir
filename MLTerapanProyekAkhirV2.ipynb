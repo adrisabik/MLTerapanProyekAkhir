{
  "nbformat": 4,
  "nbformat_minor": 0,
  "metadata": {
    "colab": {
      "name": "MLTerapanProyekAkhirV2.ipynb",
      "provenance": [],
      "collapsed_sections": []
    },
    "kernelspec": {
      "name": "python3",
      "display_name": "Python 3"
    },
    "language_info": {
      "name": "python"
    }
  },
  "cells": [
    {
      "cell_type": "markdown",
      "metadata": {
        "id": "rQpws70V5vQx"
      },
      "source": [
        "## Nama : Adri Sabik Muhana\n",
        "\n",
        "## Alamat : Kasihan, Bantul, DIY\n",
        "\n",
        "## Instansi : UPN Veteran Yogyakarta\n",
        "\n",
        "## email : adrisabik@gmail.com\n",
        "\n",
        "### **Dataset : IMDb movies extensive dataset**\n",
        "\n",
        "### **link dataset : https://www.kaggle.com/stefanoleone992/imdb-extensive-dataset**\n",
        "\n",
        "\n",
        "---"
      ]
    },
    {
      "cell_type": "markdown",
      "metadata": {
        "id": "ycPYw1IW5-di"
      },
      "source": [
        "## **Import Library**"
      ]
    },
    {
      "cell_type": "code",
      "metadata": {
        "id": "Bgzc2elMwjLl"
      },
      "source": [
        "import pandas as pd\n",
        "import numpy as np \n",
        "import tensorflow as tf\n",
        "import matplotlib.pyplot as plt\n",
        "from zipfile import ZipFile\n",
        "\n",
        "from tensorflow import keras\n",
        "from tensorflow.keras import layers\n",
        "from pathlib import Path\n",
        "from sklearn.feature_extraction.text import TfidfVectorizer\n",
        "from sklearn.metrics.pairwise import cosine_similarity"
      ],
      "execution_count": 1,
      "outputs": []
    },
    {
      "cell_type": "markdown",
      "metadata": {
        "id": "zTS4iroY6Ctw"
      },
      "source": [
        "### **Import dataset**"
      ]
    },
    {
      "cell_type": "code",
      "metadata": {
        "colab": {
          "base_uri": "https://localhost:8080/"
        },
        "id": "_if839lSxFBS",
        "outputId": "cbc9a426-c29f-460d-90df-4c9c0f9025a4"
      },
      "source": [
        "from google.colab import drive\n",
        "drive.mount('/content/drive')"
      ],
      "execution_count": 2,
      "outputs": [
        {
          "output_type": "stream",
          "name": "stdout",
          "text": [
            "Mounted at /content/drive\n"
          ]
        }
      ]
    },
    {
      "cell_type": "markdown",
      "metadata": {
        "id": "Bq-rtkkQO5Bi"
      },
      "source": [
        "### **Load dataset**"
      ]
    },
    {
      "cell_type": "code",
      "metadata": {
        "colab": {
          "base_uri": "https://localhost:8080/"
        },
        "id": "SGFOHAFyxNph",
        "outputId": "e5abd6aa-c4d3-4b79-f171-3dbadc442221"
      },
      "source": [
        "movie = pd.read_csv('drive/MyDrive/Datasets/IMDb Movie/IMDb movies.csv')\n",
        "actor = pd.read_csv('drive/MyDrive/Datasets/IMDb Movie/IMDb names.csv')\n",
        "rating = pd.read_csv('drive/MyDrive/Datasets/IMDb Movie/IMDb ratings.csv')\n",
        " \n",
        "print('Jumlah film   : ', len(movie.imdb_title_id.unique()))\n",
        "print('Jumlah actor  : ', len(actor.imdb_name_id.unique()))\n",
        "print('Jumlah rating : ', len(rating.imdb_title_id.unique()))"
      ],
      "execution_count": 3,
      "outputs": [
        {
          "output_type": "stream",
          "name": "stderr",
          "text": [
            "/usr/local/lib/python3.7/dist-packages/IPython/core/interactiveshell.py:2718: DtypeWarning: Columns (3) have mixed types.Specify dtype option on import or set low_memory=False.\n",
            "  interactivity=interactivity, compiler=compiler, result=result)\n"
          ]
        },
        {
          "output_type": "stream",
          "name": "stdout",
          "text": [
            "Jumlah film   :  85855\n",
            "Jumlah actor  :  297705\n",
            "Jumlah rating :  85855\n"
          ]
        }
      ]
    },
    {
      "cell_type": "markdown",
      "metadata": {
        "id": "Wc3-HLjK6GDw"
      },
      "source": [
        "## **Explor variabel movie**"
      ]
    },
    {
      "cell_type": "code",
      "metadata": {
        "colab": {
          "base_uri": "https://localhost:8080/"
        },
        "id": "O7iB30zZyYRB",
        "outputId": "552b2294-32c2-45be-c362-37d5811bfba8"
      },
      "source": [
        "movie.info()"
      ],
      "execution_count": 4,
      "outputs": [
        {
          "output_type": "stream",
          "name": "stdout",
          "text": [
            "<class 'pandas.core.frame.DataFrame'>\n",
            "RangeIndex: 85855 entries, 0 to 85854\n",
            "Data columns (total 22 columns):\n",
            " #   Column                 Non-Null Count  Dtype  \n",
            "---  ------                 --------------  -----  \n",
            " 0   imdb_title_id          85855 non-null  object \n",
            " 1   title                  85855 non-null  object \n",
            " 2   original_title         85855 non-null  object \n",
            " 3   year                   85855 non-null  object \n",
            " 4   date_published         85855 non-null  object \n",
            " 5   genre                  85855 non-null  object \n",
            " 6   duration               85855 non-null  int64  \n",
            " 7   country                85791 non-null  object \n",
            " 8   language               85022 non-null  object \n",
            " 9   director               85768 non-null  object \n",
            " 10  writer                 84283 non-null  object \n",
            " 11  production_company     81400 non-null  object \n",
            " 12  actors                 85786 non-null  object \n",
            " 13  description            83740 non-null  object \n",
            " 14  avg_vote               85855 non-null  float64\n",
            " 15  votes                  85855 non-null  int64  \n",
            " 16  budget                 23710 non-null  object \n",
            " 17  usa_gross_income       15326 non-null  object \n",
            " 18  worlwide_gross_income  31016 non-null  object \n",
            " 19  metascore              13305 non-null  float64\n",
            " 20  reviews_from_users     78258 non-null  float64\n",
            " 21  reviews_from_critics   74058 non-null  float64\n",
            "dtypes: float64(4), int64(2), object(16)\n",
            "memory usage: 14.4+ MB\n"
          ]
        }
      ]
    },
    {
      "cell_type": "markdown",
      "metadata": {
        "id": "zdH08yVjPXi6"
      },
      "source": [
        "### **Drop data yang tidak digunakan**"
      ]
    },
    {
      "cell_type": "code",
      "metadata": {
        "id": "yIi5a8GYy7UJ"
      },
      "source": [
        "movie.drop(['original_title', 'date_published', 'language', 'writer', 'production_company', 'description', 'avg_vote', 'votes', 'budget', 'usa_gross_income', 'worlwide_gross_income', 'metascore', 'reviews_from_users', 'reviews_from_critics'], axis=1, inplace=True)"
      ],
      "execution_count": 5,
      "outputs": []
    },
    {
      "cell_type": "markdown",
      "metadata": {
        "id": "lg7A4XsBPfBi"
      },
      "source": [
        "### **Membuat genre, country, dan actor menjadi satu**"
      ]
    },
    {
      "cell_type": "code",
      "metadata": {
        "colab": {
          "base_uri": "https://localhost:8080/",
          "height": 203
        },
        "id": "BMMq58aD08Dg",
        "outputId": "6736fbb5-61c4-4449-f96b-89cdc7dfac56"
      },
      "source": [
        "# membuat genre menjadi 1\n",
        "movie.genre = movie.genre.str.split(\", \", expand = True)\n",
        "\n",
        "# membuat country menjadi 1\n",
        "movie.country = movie.country.str.split(\", \", expand = True)\n",
        "\n",
        "# membuat actor menjadi 1\n",
        "movie.actors = movie.actors.str.split(\", \", expand = True)\n",
        "\n",
        "movie.head()"
      ],
      "execution_count": 6,
      "outputs": [
        {
          "output_type": "execute_result",
          "data": {
            "text/html": [
              "<div>\n",
              "<style scoped>\n",
              "    .dataframe tbody tr th:only-of-type {\n",
              "        vertical-align: middle;\n",
              "    }\n",
              "\n",
              "    .dataframe tbody tr th {\n",
              "        vertical-align: top;\n",
              "    }\n",
              "\n",
              "    .dataframe thead th {\n",
              "        text-align: right;\n",
              "    }\n",
              "</style>\n",
              "<table border=\"1\" class=\"dataframe\">\n",
              "  <thead>\n",
              "    <tr style=\"text-align: right;\">\n",
              "      <th></th>\n",
              "      <th>imdb_title_id</th>\n",
              "      <th>title</th>\n",
              "      <th>year</th>\n",
              "      <th>genre</th>\n",
              "      <th>duration</th>\n",
              "      <th>country</th>\n",
              "      <th>director</th>\n",
              "      <th>actors</th>\n",
              "    </tr>\n",
              "  </thead>\n",
              "  <tbody>\n",
              "    <tr>\n",
              "      <th>0</th>\n",
              "      <td>tt0000009</td>\n",
              "      <td>Miss Jerry</td>\n",
              "      <td>1894</td>\n",
              "      <td>Romance</td>\n",
              "      <td>45</td>\n",
              "      <td>USA</td>\n",
              "      <td>Alexander Black</td>\n",
              "      <td>Blanche Bayliss</td>\n",
              "    </tr>\n",
              "    <tr>\n",
              "      <th>1</th>\n",
              "      <td>tt0000574</td>\n",
              "      <td>The Story of the Kelly Gang</td>\n",
              "      <td>1906</td>\n",
              "      <td>Biography</td>\n",
              "      <td>70</td>\n",
              "      <td>Australia</td>\n",
              "      <td>Charles Tait</td>\n",
              "      <td>Elizabeth Tait</td>\n",
              "    </tr>\n",
              "    <tr>\n",
              "      <th>2</th>\n",
              "      <td>tt0001892</td>\n",
              "      <td>Den sorte drøm</td>\n",
              "      <td>1911</td>\n",
              "      <td>Drama</td>\n",
              "      <td>53</td>\n",
              "      <td>Germany</td>\n",
              "      <td>Urban Gad</td>\n",
              "      <td>Asta Nielsen</td>\n",
              "    </tr>\n",
              "    <tr>\n",
              "      <th>3</th>\n",
              "      <td>tt0002101</td>\n",
              "      <td>Cleopatra</td>\n",
              "      <td>1912</td>\n",
              "      <td>Drama</td>\n",
              "      <td>100</td>\n",
              "      <td>USA</td>\n",
              "      <td>Charles L. Gaskill</td>\n",
              "      <td>Helen Gardner</td>\n",
              "    </tr>\n",
              "    <tr>\n",
              "      <th>4</th>\n",
              "      <td>tt0002130</td>\n",
              "      <td>L'Inferno</td>\n",
              "      <td>1911</td>\n",
              "      <td>Adventure</td>\n",
              "      <td>68</td>\n",
              "      <td>Italy</td>\n",
              "      <td>Francesco Bertolini, Adolfo Padovan</td>\n",
              "      <td>Salvatore Papa</td>\n",
              "    </tr>\n",
              "  </tbody>\n",
              "</table>\n",
              "</div>"
            ],
            "text/plain": [
              "  imdb_title_id  ...           actors\n",
              "0     tt0000009  ...  Blanche Bayliss\n",
              "1     tt0000574  ...   Elizabeth Tait\n",
              "2     tt0001892  ...     Asta Nielsen\n",
              "3     tt0002101  ...    Helen Gardner\n",
              "4     tt0002130  ...   Salvatore Papa\n",
              "\n",
              "[5 rows x 8 columns]"
            ]
          },
          "metadata": {},
          "execution_count": 6
        }
      ]
    },
    {
      "cell_type": "markdown",
      "metadata": {
        "id": "WRch7TCAGe47"
      },
      "source": [
        "### **Eksplor genre lebih jauh**"
      ]
    },
    {
      "cell_type": "code",
      "metadata": {
        "colab": {
          "base_uri": "https://localhost:8080/",
          "height": 762
        },
        "id": "i80oaJD9NBXW",
        "outputId": "88c9b325-8dfa-44f0-f171-4aa843e7bbb4"
      },
      "source": [
        "count = movie.genre.value_counts()\n",
        "percent = 100*movie.genre.value_counts(normalize=True)\n",
        "df = pd.DataFrame({'jumlah sampel':count, 'persentase':percent.round(1)})\n",
        "print(df)\n",
        "count.plot(kind='bar', title='genre');"
      ],
      "execution_count": 7,
      "outputs": [
        {
          "output_type": "stream",
          "name": "stdout",
          "text": [
            "             jumlah sampel  persentase\n",
            "Drama                25386        29.6\n",
            "Comedy               24297        28.3\n",
            "Action               12182        14.2\n",
            "Crime                 5557         6.5\n",
            "Horror                5113         6.0\n",
            "Adventure             3599         4.2\n",
            "Animation             2108         2.5\n",
            "Biography             2067         2.4\n",
            "Thriller              1375         1.6\n",
            "Romance                767         0.9\n",
            "Family                 638         0.7\n",
            "Western                617         0.7\n",
            "Mystery                593         0.7\n",
            "Fantasy                502         0.6\n",
            "Sci-Fi                 417         0.5\n",
            "Musical                324         0.4\n",
            "War                    107         0.1\n",
            "History                 80         0.1\n",
            "Music                   77         0.1\n",
            "Film-Noir               29         0.0\n",
            "Sport                   16         0.0\n",
            "Adult                    2         0.0\n",
            "Documentary              2         0.0\n"
          ]
        },
        {
          "output_type": "display_data",
          "data": {
            "image/png": "[encoded data removed]",
            "text/plain": [
              "<Figure size 432x288 with 1 Axes>"
            ]
          },
          "metadata": {
            "needs_background": "light"
          }
        }
      ]
    },
    {
      "cell_type": "code",
      "metadata": {
        "colab": {
          "base_uri": "https://localhost:8080/"
        },
        "id": "oUOYCjnD2D4C",
        "outputId": "a4d8c741-616e-4e70-ed08-0c68a47f31bb"
      },
      "source": [
        "print('Jumlah film : ', len(movie.imdb_title_id.unique()))\n",
        "print('Jumlah direktor : ', len(movie.director.unique()))\n",
        "print('Direktor        : ', movie.director.unique())\n",
        "print('Jumlah aktor : ', len(movie.actors.unique()))\n",
        "print('Jumlah aktor : ', movie.actors.unique())\n",
        "print('Jumlah genre : ', len(movie.genre.unique()))\n",
        "print('genre        : ', movie.genre.unique())"
      ],
      "execution_count": 8,
      "outputs": [
        {
          "output_type": "stream",
          "name": "stdout",
          "text": [
            "Jumlah film :  85855\n",
            "Jumlah direktor :  34734\n",
            "Direktor        :  ['Alexander Black' 'Charles Tait' 'Urban Gad' ... 'Ludovic Colbeau-Justin'\n",
            " 'Vineesh Aaradya' 'Laura Jou']\n",
            "Jumlah aktor :  37147\n",
            "Jumlah aktor :  ['Blanche Bayliss' 'Elizabeth Tait' 'Asta Nielsen' ... 'Anoop Chandran'\n",
            " 'Ahmet Faik Akinci' 'Maria Morera Colomer']\n",
            "Jumlah genre :  23\n",
            "genre        :  ['Romance' 'Biography' 'Drama' 'Adventure' 'History' 'Crime' 'Western'\n",
            " 'Fantasy' 'Comedy' 'Horror' 'Family' 'Action' 'Mystery' 'Sci-Fi'\n",
            " 'Animation' 'Thriller' 'Musical' 'Music' 'War' 'Film-Noir' 'Sport'\n",
            " 'Adult' 'Documentary']\n"
          ]
        }
      ]
    },
    {
      "cell_type": "markdown",
      "metadata": {
        "id": "vWlWz2h96Z8w"
      },
      "source": [
        "## **Eksplorasi variabel actor**"
      ]
    },
    {
      "cell_type": "code",
      "metadata": {
        "colab": {
          "base_uri": "https://localhost:8080/"
        },
        "id": "qL_kZtJ66esu",
        "outputId": "0f165f93-472b-4844-fa33-8b4130172aba"
      },
      "source": [
        "actor.info()"
      ],
      "execution_count": 9,
      "outputs": [
        {
          "output_type": "stream",
          "name": "stdout",
          "text": [
            "<class 'pandas.core.frame.DataFrame'>\n",
            "RangeIndex: 297705 entries, 0 to 297704\n",
            "Data columns (total 17 columns):\n",
            " #   Column                 Non-Null Count   Dtype  \n",
            "---  ------                 --------------   -----  \n",
            " 0   imdb_name_id           297705 non-null  object \n",
            " 1   name                   297705 non-null  object \n",
            " 2   birth_name             297705 non-null  object \n",
            " 3   height                 44681 non-null   float64\n",
            " 4   bio                    204698 non-null  object \n",
            " 5   birth_details          110612 non-null  object \n",
            " 6   date_of_birth          110612 non-null  object \n",
            " 7   place_of_birth         103992 non-null  object \n",
            " 8   death_details          39933 non-null   object \n",
            " 9   date_of_death          39933 non-null   object \n",
            " 10  place_of_death         37038 non-null   object \n",
            " 11  reason_of_death        22694 non-null   object \n",
            " 12  spouses_string         45352 non-null   object \n",
            " 13  spouses                297705 non-null  int64  \n",
            " 14  divorces               297705 non-null  int64  \n",
            " 15  spouses_with_children  297705 non-null  int64  \n",
            " 16  children               297705 non-null  int64  \n",
            "dtypes: float64(1), int64(4), object(12)\n",
            "memory usage: 38.6+ MB\n"
          ]
        }
      ]
    },
    {
      "cell_type": "markdown",
      "metadata": {
        "id": "DVY0onE5PtsK"
      },
      "source": [
        "### **Drop data yang tidak digunakan**"
      ]
    },
    {
      "cell_type": "code",
      "metadata": {
        "colab": {
          "base_uri": "https://localhost:8080/",
          "height": 417
        },
        "id": "6LXM885s6zzA",
        "outputId": "a2405e76-f50f-4d15-9ac0-c358bd9b045d"
      },
      "source": [
        "actor = actor[['imdb_name_id', 'name']]\n",
        "actor"
      ],
      "execution_count": 10,
      "outputs": [
        {
          "output_type": "execute_result",
          "data": {
            "text/html": [
              "<div>\n",
              "<style scoped>\n",
              "    .dataframe tbody tr th:only-of-type {\n",
              "        vertical-align: middle;\n",
              "    }\n",
              "\n",
              "    .dataframe tbody tr th {\n",
              "        vertical-align: top;\n",
              "    }\n",
              "\n",
              "    .dataframe thead th {\n",
              "        text-align: right;\n",
              "    }\n",
              "</style>\n",
              "<table border=\"1\" class=\"dataframe\">\n",
              "  <thead>\n",
              "    <tr style=\"text-align: right;\">\n",
              "      <th></th>\n",
              "      <th>imdb_name_id</th>\n",
              "      <th>name</th>\n",
              "    </tr>\n",
              "  </thead>\n",
              "  <tbody>\n",
              "    <tr>\n",
              "      <th>0</th>\n",
              "      <td>nm0000001</td>\n",
              "      <td>Fred Astaire</td>\n",
              "    </tr>\n",
              "    <tr>\n",
              "      <th>1</th>\n",
              "      <td>nm0000002</td>\n",
              "      <td>Lauren Bacall</td>\n",
              "    </tr>\n",
              "    <tr>\n",
              "      <th>2</th>\n",
              "      <td>nm0000003</td>\n",
              "      <td>Brigitte Bardot</td>\n",
              "    </tr>\n",
              "    <tr>\n",
              "      <th>3</th>\n",
              "      <td>nm0000004</td>\n",
              "      <td>John Belushi</td>\n",
              "    </tr>\n",
              "    <tr>\n",
              "      <th>4</th>\n",
              "      <td>nm0000005</td>\n",
              "      <td>Ingmar Bergman</td>\n",
              "    </tr>\n",
              "    <tr>\n",
              "      <th>...</th>\n",
              "      <td>...</td>\n",
              "      <td>...</td>\n",
              "    </tr>\n",
              "    <tr>\n",
              "      <th>297700</th>\n",
              "      <td>nm5474275</td>\n",
              "      <td>Sunay Terzioglu</td>\n",
              "    </tr>\n",
              "    <tr>\n",
              "      <th>297701</th>\n",
              "      <td>nm5909653</td>\n",
              "      <td>Sung Lim Ju</td>\n",
              "    </tr>\n",
              "    <tr>\n",
              "      <th>297702</th>\n",
              "      <td>nm5993616</td>\n",
              "      <td>Coulee Nazha</td>\n",
              "    </tr>\n",
              "    <tr>\n",
              "      <th>297703</th>\n",
              "      <td>nm7634163</td>\n",
              "      <td>Ge Ou</td>\n",
              "    </tr>\n",
              "    <tr>\n",
              "      <th>297704</th>\n",
              "      <td>nm3834123</td>\n",
              "      <td>Richa Langella</td>\n",
              "    </tr>\n",
              "  </tbody>\n",
              "</table>\n",
              "<p>297705 rows × 2 columns</p>\n",
              "</div>"
            ],
            "text/plain": [
              "       imdb_name_id             name\n",
              "0         nm0000001     Fred Astaire\n",
              "1         nm0000002    Lauren Bacall\n",
              "2         nm0000003  Brigitte Bardot\n",
              "3         nm0000004     John Belushi\n",
              "4         nm0000005   Ingmar Bergman\n",
              "...             ...              ...\n",
              "297700    nm5474275  Sunay Terzioglu\n",
              "297701    nm5909653      Sung Lim Ju\n",
              "297702    nm5993616     Coulee Nazha\n",
              "297703    nm7634163            Ge Ou\n",
              "297704    nm3834123   Richa Langella\n",
              "\n",
              "[297705 rows x 2 columns]"
            ]
          },
          "metadata": {},
          "execution_count": 10
        }
      ]
    },
    {
      "cell_type": "code",
      "metadata": {
        "colab": {
          "base_uri": "https://localhost:8080/"
        },
        "id": "O7fSuapVSZOt",
        "outputId": "b9621150-4095-4db9-d1e0-59c40b1867fa"
      },
      "source": [
        "print('Jumlah aktor   : ', len(actor.imdb_name_id.unique()))"
      ],
      "execution_count": 11,
      "outputs": [
        {
          "output_type": "stream",
          "name": "stdout",
          "text": [
            "Jumlah aktor   :  297705\n"
          ]
        }
      ]
    },
    {
      "cell_type": "markdown",
      "metadata": {
        "id": "LrvniwP-JytF"
      },
      "source": [
        "### **Eksplorasi variabel rating**"
      ]
    },
    {
      "cell_type": "code",
      "metadata": {
        "colab": {
          "base_uri": "https://localhost:8080/"
        },
        "id": "aZ_k6SGwJ1hV",
        "outputId": "91e347ed-53f8-4274-ff0d-dc6a5c0afa24"
      },
      "source": [
        "rating.info()"
      ],
      "execution_count": 12,
      "outputs": [
        {
          "output_type": "stream",
          "name": "stdout",
          "text": [
            "<class 'pandas.core.frame.DataFrame'>\n",
            "RangeIndex: 85855 entries, 0 to 85854\n",
            "Data columns (total 49 columns):\n",
            " #   Column                     Non-Null Count  Dtype  \n",
            "---  ------                     --------------  -----  \n",
            " 0   imdb_title_id              85855 non-null  object \n",
            " 1   weighted_average_vote      85855 non-null  float64\n",
            " 2   total_votes                85855 non-null  int64  \n",
            " 3   mean_vote                  85855 non-null  float64\n",
            " 4   median_vote                85855 non-null  float64\n",
            " 5   votes_10                   85855 non-null  int64  \n",
            " 6   votes_9                    85855 non-null  int64  \n",
            " 7   votes_8                    85855 non-null  int64  \n",
            " 8   votes_7                    85855 non-null  int64  \n",
            " 9   votes_6                    85855 non-null  int64  \n",
            " 10  votes_5                    85855 non-null  int64  \n",
            " 11  votes_4                    85855 non-null  int64  \n",
            " 12  votes_3                    85855 non-null  int64  \n",
            " 13  votes_2                    85855 non-null  int64  \n",
            " 14  votes_1                    85855 non-null  int64  \n",
            " 15  allgenders_0age_avg_vote   33359 non-null  float64\n",
            " 16  allgenders_0age_votes      33359 non-null  float64\n",
            " 17  allgenders_18age_avg_vote  85149 non-null  float64\n",
            " 18  allgenders_18age_votes     85149 non-null  float64\n",
            " 19  allgenders_30age_avg_vote  85845 non-null  float64\n",
            " 20  allgenders_30age_votes     85845 non-null  float64\n",
            " 21  allgenders_45age_avg_vote  85775 non-null  float64\n",
            " 22  allgenders_45age_votes     85775 non-null  float64\n",
            " 23  males_allages_avg_vote     85854 non-null  float64\n",
            " 24  males_allages_votes        85854 non-null  float64\n",
            " 25  males_0age_avg_vote        27411 non-null  float64\n",
            " 26  males_0age_votes           27411 non-null  float64\n",
            " 27  males_18age_avg_vote       84390 non-null  float64\n",
            " 28  males_18age_votes          84390 non-null  float64\n",
            " 29  males_30age_avg_vote       85843 non-null  float64\n",
            " 30  males_30age_votes          85843 non-null  float64\n",
            " 31  males_45age_avg_vote       85754 non-null  float64\n",
            " 32  males_45age_votes          85754 non-null  float64\n",
            " 33  females_allages_avg_vote   85774 non-null  float64\n",
            " 34  females_allages_votes      85774 non-null  float64\n",
            " 35  females_0age_avg_vote      22117 non-null  float64\n",
            " 36  females_0age_votes         22117 non-null  float64\n",
            " 37  females_18age_avg_vote     79334 non-null  float64\n",
            " 38  females_18age_votes        79334 non-null  float64\n",
            " 39  females_30age_avg_vote     84911 non-null  float64\n",
            " 40  females_30age_votes        84911 non-null  float64\n",
            " 41  females_45age_avg_vote     83057 non-null  float64\n",
            " 42  females_45age_votes        83057 non-null  float64\n",
            " 43  top1000_voters_rating      85176 non-null  float64\n",
            " 44  top1000_voters_votes       85176 non-null  float64\n",
            " 45  us_voters_rating           85646 non-null  float64\n",
            " 46  us_voters_votes            85646 non-null  float64\n",
            " 47  non_us_voters_rating       85854 non-null  float64\n",
            " 48  non_us_voters_votes        85854 non-null  float64\n",
            "dtypes: float64(37), int64(11), object(1)\n",
            "memory usage: 32.1+ MB\n"
          ]
        }
      ]
    },
    {
      "cell_type": "markdown",
      "metadata": {
        "id": "xdMLrGVdQLBB"
      },
      "source": [
        "### **Drop data yang tidak digunakan**"
      ]
    },
    {
      "cell_type": "code",
      "metadata": {
        "colab": {
          "base_uri": "https://localhost:8080/",
          "height": 417
        },
        "id": "W9sCRkWoJ80l",
        "outputId": "28727a0f-409a-4080-e9d4-cbc08a337db1"
      },
      "source": [
        "rating = rating[['imdb_title_id', 'weighted_average_vote']]\n",
        "rating = rating.rename(columns={'weighted_average_vote':'rating'})\n",
        "rating"
      ],
      "execution_count": 13,
      "outputs": [
        {
          "output_type": "execute_result",
          "data": {
            "text/html": [
              "<div>\n",
              "<style scoped>\n",
              "    .dataframe tbody tr th:only-of-type {\n",
              "        vertical-align: middle;\n",
              "    }\n",
              "\n",
              "    .dataframe tbody tr th {\n",
              "        vertical-align: top;\n",
              "    }\n",
              "\n",
              "    .dataframe thead th {\n",
              "        text-align: right;\n",
              "    }\n",
              "</style>\n",
              "<table border=\"1\" class=\"dataframe\">\n",
              "  <thead>\n",
              "    <tr style=\"text-align: right;\">\n",
              "      <th></th>\n",
              "      <th>imdb_title_id</th>\n",
              "      <th>rating</th>\n",
              "    </tr>\n",
              "  </thead>\n",
              "  <tbody>\n",
              "    <tr>\n",
              "      <th>0</th>\n",
              "      <td>tt0000009</td>\n",
              "      <td>5.9</td>\n",
              "    </tr>\n",
              "    <tr>\n",
              "      <th>1</th>\n",
              "      <td>tt0000574</td>\n",
              "      <td>6.1</td>\n",
              "    </tr>\n",
              "    <tr>\n",
              "      <th>2</th>\n",
              "      <td>tt0001892</td>\n",
              "      <td>5.8</td>\n",
              "    </tr>\n",
              "    <tr>\n",
              "      <th>3</th>\n",
              "      <td>tt0002101</td>\n",
              "      <td>5.2</td>\n",
              "    </tr>\n",
              "    <tr>\n",
              "      <th>4</th>\n",
              "      <td>tt0002130</td>\n",
              "      <td>7.0</td>\n",
              "    </tr>\n",
              "    <tr>\n",
              "      <th>...</th>\n",
              "      <td>...</td>\n",
              "      <td>...</td>\n",
              "    </tr>\n",
              "    <tr>\n",
              "      <th>85850</th>\n",
              "      <td>tt9908390</td>\n",
              "      <td>5.3</td>\n",
              "    </tr>\n",
              "    <tr>\n",
              "      <th>85851</th>\n",
              "      <td>tt9911196</td>\n",
              "      <td>7.7</td>\n",
              "    </tr>\n",
              "    <tr>\n",
              "      <th>85852</th>\n",
              "      <td>tt9911774</td>\n",
              "      <td>7.9</td>\n",
              "    </tr>\n",
              "    <tr>\n",
              "      <th>85853</th>\n",
              "      <td>tt9914286</td>\n",
              "      <td>6.4</td>\n",
              "    </tr>\n",
              "    <tr>\n",
              "      <th>85854</th>\n",
              "      <td>tt9914942</td>\n",
              "      <td>6.7</td>\n",
              "    </tr>\n",
              "  </tbody>\n",
              "</table>\n",
              "<p>85855 rows × 2 columns</p>\n",
              "</div>"
            ],
            "text/plain": [
              "      imdb_title_id  rating\n",
              "0         tt0000009     5.9\n",
              "1         tt0000574     6.1\n",
              "2         tt0001892     5.8\n",
              "3         tt0002101     5.2\n",
              "4         tt0002130     7.0\n",
              "...             ...     ...\n",
              "85850     tt9908390     5.3\n",
              "85851     tt9911196     7.7\n",
              "85852     tt9911774     7.9\n",
              "85853     tt9914286     6.4\n",
              "85854     tt9914942     6.7\n",
              "\n",
              "[85855 rows x 2 columns]"
            ]
          },
          "metadata": {},
          "execution_count": 13
        }
      ]
    },
    {
      "cell_type": "markdown",
      "metadata": {
        "id": "hCwaKfSIQOwx"
      },
      "source": [
        "### **Melihat lebih jauh pada rating**"
      ]
    },
    {
      "cell_type": "code",
      "metadata": {
        "colab": {
          "base_uri": "https://localhost:8080/",
          "height": 295
        },
        "id": "OLX84dvoRf30",
        "outputId": "ba59e618-b6d7-44c2-939d-3dc1656298af"
      },
      "source": [
        "rating.describe()"
      ],
      "execution_count": 14,
      "outputs": [
        {
          "output_type": "execute_result",
          "data": {
            "text/html": [
              "<div>\n",
              "<style scoped>\n",
              "    .dataframe tbody tr th:only-of-type {\n",
              "        vertical-align: middle;\n",
              "    }\n",
              "\n",
              "    .dataframe tbody tr th {\n",
              "        vertical-align: top;\n",
              "    }\n",
              "\n",
              "    .dataframe thead th {\n",
              "        text-align: right;\n",
              "    }\n",
              "</style>\n",
              "<table border=\"1\" class=\"dataframe\">\n",
              "  <thead>\n",
              "    <tr style=\"text-align: right;\">\n",
              "      <th></th>\n",
              "      <th>rating</th>\n",
              "    </tr>\n",
              "  </thead>\n",
              "  <tbody>\n",
              "    <tr>\n",
              "      <th>count</th>\n",
              "      <td>85855.000000</td>\n",
              "    </tr>\n",
              "    <tr>\n",
              "      <th>mean</th>\n",
              "      <td>5.898656</td>\n",
              "    </tr>\n",
              "    <tr>\n",
              "      <th>std</th>\n",
              "      <td>1.234987</td>\n",
              "    </tr>\n",
              "    <tr>\n",
              "      <th>min</th>\n",
              "      <td>1.000000</td>\n",
              "    </tr>\n",
              "    <tr>\n",
              "      <th>25%</th>\n",
              "      <td>5.200000</td>\n",
              "    </tr>\n",
              "    <tr>\n",
              "      <th>50%</th>\n",
              "      <td>6.100000</td>\n",
              "    </tr>\n",
              "    <tr>\n",
              "      <th>75%</th>\n",
              "      <td>6.800000</td>\n",
              "    </tr>\n",
              "    <tr>\n",
              "      <th>max</th>\n",
              "      <td>9.900000</td>\n",
              "    </tr>\n",
              "  </tbody>\n",
              "</table>\n",
              "</div>"
            ],
            "text/plain": [
              "             rating\n",
              "count  85855.000000\n",
              "mean       5.898656\n",
              "std        1.234987\n",
              "min        1.000000\n",
              "25%        5.200000\n",
              "50%        6.100000\n",
              "75%        6.800000\n",
              "max        9.900000"
            ]
          },
          "metadata": {},
          "execution_count": 14
        }
      ]
    },
    {
      "cell_type": "markdown",
      "metadata": {
        "id": "A7iHzsweQTQp"
      },
      "source": [
        "Bisa dilihat bahwa rating berkisar antara 1-10"
      ]
    },
    {
      "cell_type": "code",
      "metadata": {
        "colab": {
          "base_uri": "https://localhost:8080/"
        },
        "id": "pX1BDXEpRqq9",
        "outputId": "cabe7c6d-1cdc-4dc6-c3b1-c3073eb97d53"
      },
      "source": [
        "print('Jumlah film yang diberi rating : ', len(rating.imdb_title_id.unique()))"
      ],
      "execution_count": 15,
      "outputs": [
        {
          "output_type": "stream",
          "name": "stdout",
          "text": [
            "Jumlah film yang diberi rating :  85855\n"
          ]
        }
      ]
    },
    {
      "cell_type": "markdown",
      "metadata": {
        "id": "XgZmsLDmULib"
      },
      "source": [
        "## **Data Preparation**"
      ]
    },
    {
      "cell_type": "code",
      "metadata": {
        "colab": {
          "base_uri": "https://localhost:8080/",
          "height": 417
        },
        "id": "JVHiQ_-IT8pO",
        "outputId": "0deff716-588d-48be-e876-66da71782975"
      },
      "source": [
        "# Definisikan dataframe rating ke dalam variabel all_movie_rate\n",
        "all_movie_rate = rating\n",
        "all_movie_rate"
      ],
      "execution_count": 16,
      "outputs": [
        {
          "output_type": "execute_result",
          "data": {
            "text/html": [
              "<div>\n",
              "<style scoped>\n",
              "    .dataframe tbody tr th:only-of-type {\n",
              "        vertical-align: middle;\n",
              "    }\n",
              "\n",
              "    .dataframe tbody tr th {\n",
              "        vertical-align: top;\n",
              "    }\n",
              "\n",
              "    .dataframe thead th {\n",
              "        text-align: right;\n",
              "    }\n",
              "</style>\n",
              "<table border=\"1\" class=\"dataframe\">\n",
              "  <thead>\n",
              "    <tr style=\"text-align: right;\">\n",
              "      <th></th>\n",
              "      <th>imdb_title_id</th>\n",
              "      <th>rating</th>\n",
              "    </tr>\n",
              "  </thead>\n",
              "  <tbody>\n",
              "    <tr>\n",
              "      <th>0</th>\n",
              "      <td>tt0000009</td>\n",
              "      <td>5.9</td>\n",
              "    </tr>\n",
              "    <tr>\n",
              "      <th>1</th>\n",
              "      <td>tt0000574</td>\n",
              "      <td>6.1</td>\n",
              "    </tr>\n",
              "    <tr>\n",
              "      <th>2</th>\n",
              "      <td>tt0001892</td>\n",
              "      <td>5.8</td>\n",
              "    </tr>\n",
              "    <tr>\n",
              "      <th>3</th>\n",
              "      <td>tt0002101</td>\n",
              "      <td>5.2</td>\n",
              "    </tr>\n",
              "    <tr>\n",
              "      <th>4</th>\n",
              "      <td>tt0002130</td>\n",
              "      <td>7.0</td>\n",
              "    </tr>\n",
              "    <tr>\n",
              "      <th>...</th>\n",
              "      <td>...</td>\n",
              "      <td>...</td>\n",
              "    </tr>\n",
              "    <tr>\n",
              "      <th>85850</th>\n",
              "      <td>tt9908390</td>\n",
              "      <td>5.3</td>\n",
              "    </tr>\n",
              "    <tr>\n",
              "      <th>85851</th>\n",
              "      <td>tt9911196</td>\n",
              "      <td>7.7</td>\n",
              "    </tr>\n",
              "    <tr>\n",
              "      <th>85852</th>\n",
              "      <td>tt9911774</td>\n",
              "      <td>7.9</td>\n",
              "    </tr>\n",
              "    <tr>\n",
              "      <th>85853</th>\n",
              "      <td>tt9914286</td>\n",
              "      <td>6.4</td>\n",
              "    </tr>\n",
              "    <tr>\n",
              "      <th>85854</th>\n",
              "      <td>tt9914942</td>\n",
              "      <td>6.7</td>\n",
              "    </tr>\n",
              "  </tbody>\n",
              "</table>\n",
              "<p>85855 rows × 2 columns</p>\n",
              "</div>"
            ],
            "text/plain": [
              "      imdb_title_id  rating\n",
              "0         tt0000009     5.9\n",
              "1         tt0000574     6.1\n",
              "2         tt0001892     5.8\n",
              "3         tt0002101     5.2\n",
              "4         tt0002130     7.0\n",
              "...             ...     ...\n",
              "85850     tt9908390     5.3\n",
              "85851     tt9911196     7.7\n",
              "85852     tt9911774     7.9\n",
              "85853     tt9914286     6.4\n",
              "85854     tt9914942     6.7\n",
              "\n",
              "[85855 rows x 2 columns]"
            ]
          },
          "metadata": {},
          "execution_count": 16
        }
      ]
    },
    {
      "cell_type": "markdown",
      "metadata": {
        "id": "921GYdgXRdYT"
      },
      "source": [
        "### **Menggabungkan data**"
      ]
    },
    {
      "cell_type": "code",
      "metadata": {
        "colab": {
          "base_uri": "https://localhost:8080/",
          "height": 417
        },
        "id": "y0yOJa5ZU3TE",
        "outputId": "c4f11221-6d25-4632-a182-b40284da209d"
      },
      "source": [
        "# Menggabungkan all_movie_rate dengan dataframe movie(title, genre) berdasarkan imdb_title_id\n",
        "all_movie = pd.merge(all_movie_rate, movie[['imdb_title_id','title', 'genre']], on='imdb_title_id', how='left')\n",
        " \n",
        "# Print dataframe all_movie\n",
        "all_movie"
      ],
      "execution_count": 17,
      "outputs": [
        {
          "output_type": "execute_result",
          "data": {
            "text/html": [
              "<div>\n",
              "<style scoped>\n",
              "    .dataframe tbody tr th:only-of-type {\n",
              "        vertical-align: middle;\n",
              "    }\n",
              "\n",
              "    .dataframe tbody tr th {\n",
              "        vertical-align: top;\n",
              "    }\n",
              "\n",
              "    .dataframe thead th {\n",
              "        text-align: right;\n",
              "    }\n",
              "</style>\n",
              "<table border=\"1\" class=\"dataframe\">\n",
              "  <thead>\n",
              "    <tr style=\"text-align: right;\">\n",
              "      <th></th>\n",
              "      <th>imdb_title_id</th>\n",
              "      <th>rating</th>\n",
              "      <th>title</th>\n",
              "      <th>genre</th>\n",
              "    </tr>\n",
              "  </thead>\n",
              "  <tbody>\n",
              "    <tr>\n",
              "      <th>0</th>\n",
              "      <td>tt0000009</td>\n",
              "      <td>5.9</td>\n",
              "      <td>Miss Jerry</td>\n",
              "      <td>Romance</td>\n",
              "    </tr>\n",
              "    <tr>\n",
              "      <th>1</th>\n",
              "      <td>tt0000574</td>\n",
              "      <td>6.1</td>\n",
              "      <td>The Story of the Kelly Gang</td>\n",
              "      <td>Biography</td>\n",
              "    </tr>\n",
              "    <tr>\n",
              "      <th>2</th>\n",
              "      <td>tt0001892</td>\n",
              "      <td>5.8</td>\n",
              "      <td>Den sorte drøm</td>\n",
              "      <td>Drama</td>\n",
              "    </tr>\n",
              "    <tr>\n",
              "      <th>3</th>\n",
              "      <td>tt0002101</td>\n",
              "      <td>5.2</td>\n",
              "      <td>Cleopatra</td>\n",
              "      <td>Drama</td>\n",
              "    </tr>\n",
              "    <tr>\n",
              "      <th>4</th>\n",
              "      <td>tt0002130</td>\n",
              "      <td>7.0</td>\n",
              "      <td>L'Inferno</td>\n",
              "      <td>Adventure</td>\n",
              "    </tr>\n",
              "    <tr>\n",
              "      <th>...</th>\n",
              "      <td>...</td>\n",
              "      <td>...</td>\n",
              "      <td>...</td>\n",
              "      <td>...</td>\n",
              "    </tr>\n",
              "    <tr>\n",
              "      <th>85850</th>\n",
              "      <td>tt9908390</td>\n",
              "      <td>5.3</td>\n",
              "      <td>Le lion</td>\n",
              "      <td>Comedy</td>\n",
              "    </tr>\n",
              "    <tr>\n",
              "      <th>85851</th>\n",
              "      <td>tt9911196</td>\n",
              "      <td>7.7</td>\n",
              "      <td>De Beentjes van Sint-Hildegard</td>\n",
              "      <td>Comedy</td>\n",
              "    </tr>\n",
              "    <tr>\n",
              "      <th>85852</th>\n",
              "      <td>tt9911774</td>\n",
              "      <td>7.9</td>\n",
              "      <td>Padmavyuhathile Abhimanyu</td>\n",
              "      <td>Drama</td>\n",
              "    </tr>\n",
              "    <tr>\n",
              "      <th>85853</th>\n",
              "      <td>tt9914286</td>\n",
              "      <td>6.4</td>\n",
              "      <td>Sokagin Çocuklari</td>\n",
              "      <td>Drama</td>\n",
              "    </tr>\n",
              "    <tr>\n",
              "      <th>85854</th>\n",
              "      <td>tt9914942</td>\n",
              "      <td>6.7</td>\n",
              "      <td>La vida sense la Sara Amat</td>\n",
              "      <td>Drama</td>\n",
              "    </tr>\n",
              "  </tbody>\n",
              "</table>\n",
              "<p>85855 rows × 4 columns</p>\n",
              "</div>"
            ],
            "text/plain": [
              "      imdb_title_id  rating                           title      genre\n",
              "0         tt0000009     5.9                      Miss Jerry    Romance\n",
              "1         tt0000574     6.1     The Story of the Kelly Gang  Biography\n",
              "2         tt0001892     5.8                  Den sorte drøm      Drama\n",
              "3         tt0002101     5.2                       Cleopatra      Drama\n",
              "4         tt0002130     7.0                       L'Inferno  Adventure\n",
              "...             ...     ...                             ...        ...\n",
              "85850     tt9908390     5.3                         Le lion     Comedy\n",
              "85851     tt9911196     7.7  De Beentjes van Sint-Hildegard     Comedy\n",
              "85852     tt9911774     7.9       Padmavyuhathile Abhimanyu      Drama\n",
              "85853     tt9914286     6.4               Sokagin Çocuklari      Drama\n",
              "85854     tt9914942     6.7      La vida sense la Sara Amat      Drama\n",
              "\n",
              "[85855 rows x 4 columns]"
            ]
          },
          "metadata": {},
          "execution_count": 17
        }
      ]
    },
    {
      "cell_type": "markdown",
      "metadata": {
        "id": "jrWZBNvYRlFS"
      },
      "source": [
        "### **Mengecek missing value**"
      ]
    },
    {
      "cell_type": "code",
      "metadata": {
        "colab": {
          "base_uri": "https://localhost:8080/"
        },
        "id": "gpRhPElLW0BM",
        "outputId": "761e3d09-f587-4ee6-f3d2-ca5a10803356"
      },
      "source": [
        "all_movie.isnull().sum()"
      ],
      "execution_count": 18,
      "outputs": [
        {
          "output_type": "execute_result",
          "data": {
            "text/plain": [
              "imdb_title_id    0\n",
              "rating           0\n",
              "title            0\n",
              "genre            0\n",
              "dtype: int64"
            ]
          },
          "metadata": {},
          "execution_count": 18
        }
      ]
    },
    {
      "cell_type": "markdown",
      "metadata": {
        "id": "kCNQ2p-xRu3p"
      },
      "source": [
        "### **Mengurutkan data**"
      ]
    },
    {
      "cell_type": "code",
      "metadata": {
        "colab": {
          "base_uri": "https://localhost:8080/",
          "height": 417
        },
        "id": "qoQFP9S8XJ8s",
        "outputId": "71631ea4-6081-4600-a8a1-174912c19e7f"
      },
      "source": [
        "preparation = all_movie.sort_values('imdb_title_id', ascending=True)\n",
        "preparation"
      ],
      "execution_count": 19,
      "outputs": [
        {
          "output_type": "execute_result",
          "data": {
            "text/html": [
              "<div>\n",
              "<style scoped>\n",
              "    .dataframe tbody tr th:only-of-type {\n",
              "        vertical-align: middle;\n",
              "    }\n",
              "\n",
              "    .dataframe tbody tr th {\n",
              "        vertical-align: top;\n",
              "    }\n",
              "\n",
              "    .dataframe thead th {\n",
              "        text-align: right;\n",
              "    }\n",
              "</style>\n",
              "<table border=\"1\" class=\"dataframe\">\n",
              "  <thead>\n",
              "    <tr style=\"text-align: right;\">\n",
              "      <th></th>\n",
              "      <th>imdb_title_id</th>\n",
              "      <th>rating</th>\n",
              "      <th>title</th>\n",
              "      <th>genre</th>\n",
              "    </tr>\n",
              "  </thead>\n",
              "  <tbody>\n",
              "    <tr>\n",
              "      <th>0</th>\n",
              "      <td>tt0000009</td>\n",
              "      <td>5.9</td>\n",
              "      <td>Miss Jerry</td>\n",
              "      <td>Romance</td>\n",
              "    </tr>\n",
              "    <tr>\n",
              "      <th>1</th>\n",
              "      <td>tt0000574</td>\n",
              "      <td>6.1</td>\n",
              "      <td>The Story of the Kelly Gang</td>\n",
              "      <td>Biography</td>\n",
              "    </tr>\n",
              "    <tr>\n",
              "      <th>2</th>\n",
              "      <td>tt0001892</td>\n",
              "      <td>5.8</td>\n",
              "      <td>Den sorte drøm</td>\n",
              "      <td>Drama</td>\n",
              "    </tr>\n",
              "    <tr>\n",
              "      <th>3</th>\n",
              "      <td>tt0002101</td>\n",
              "      <td>5.2</td>\n",
              "      <td>Cleopatra</td>\n",
              "      <td>Drama</td>\n",
              "    </tr>\n",
              "    <tr>\n",
              "      <th>4</th>\n",
              "      <td>tt0002130</td>\n",
              "      <td>7.0</td>\n",
              "      <td>L'Inferno</td>\n",
              "      <td>Adventure</td>\n",
              "    </tr>\n",
              "    <tr>\n",
              "      <th>...</th>\n",
              "      <td>...</td>\n",
              "      <td>...</td>\n",
              "      <td>...</td>\n",
              "      <td>...</td>\n",
              "    </tr>\n",
              "    <tr>\n",
              "      <th>85850</th>\n",
              "      <td>tt9908390</td>\n",
              "      <td>5.3</td>\n",
              "      <td>Le lion</td>\n",
              "      <td>Comedy</td>\n",
              "    </tr>\n",
              "    <tr>\n",
              "      <th>85851</th>\n",
              "      <td>tt9911196</td>\n",
              "      <td>7.7</td>\n",
              "      <td>De Beentjes van Sint-Hildegard</td>\n",
              "      <td>Comedy</td>\n",
              "    </tr>\n",
              "    <tr>\n",
              "      <th>85852</th>\n",
              "      <td>tt9911774</td>\n",
              "      <td>7.9</td>\n",
              "      <td>Padmavyuhathile Abhimanyu</td>\n",
              "      <td>Drama</td>\n",
              "    </tr>\n",
              "    <tr>\n",
              "      <th>85853</th>\n",
              "      <td>tt9914286</td>\n",
              "      <td>6.4</td>\n",
              "      <td>Sokagin Çocuklari</td>\n",
              "      <td>Drama</td>\n",
              "    </tr>\n",
              "    <tr>\n",
              "      <th>85854</th>\n",
              "      <td>tt9914942</td>\n",
              "      <td>6.7</td>\n",
              "      <td>La vida sense la Sara Amat</td>\n",
              "      <td>Drama</td>\n",
              "    </tr>\n",
              "  </tbody>\n",
              "</table>\n",
              "<p>85855 rows × 4 columns</p>\n",
              "</div>"
            ],
            "text/plain": [
              "      imdb_title_id  rating                           title      genre\n",
              "0         tt0000009     5.9                      Miss Jerry    Romance\n",
              "1         tt0000574     6.1     The Story of the Kelly Gang  Biography\n",
              "2         tt0001892     5.8                  Den sorte drøm      Drama\n",
              "3         tt0002101     5.2                       Cleopatra      Drama\n",
              "4         tt0002130     7.0                       L'Inferno  Adventure\n",
              "...             ...     ...                             ...        ...\n",
              "85850     tt9908390     5.3                         Le lion     Comedy\n",
              "85851     tt9911196     7.7  De Beentjes van Sint-Hildegard     Comedy\n",
              "85852     tt9911774     7.9       Padmavyuhathile Abhimanyu      Drama\n",
              "85853     tt9914286     6.4               Sokagin Çocuklari      Drama\n",
              "85854     tt9914942     6.7      La vida sense la Sara Amat      Drama\n",
              "\n",
              "[85855 rows x 4 columns]"
            ]
          },
          "metadata": {},
          "execution_count": 19
        }
      ]
    },
    {
      "cell_type": "markdown",
      "metadata": {
        "id": "AgMiLBJwR1xZ"
      },
      "source": [
        "### **Mengurangi data karena crash ram tidak cukup**\n",
        "\n",
        "Sebelumnya saya sudah mencoba beberapa cara tapi tidak bisa, jadi saya kurangi saja data yang saya pakai"
      ]
    },
    {
      "cell_type": "code",
      "metadata": {
        "colab": {
          "base_uri": "https://localhost:8080/",
          "height": 417
        },
        "id": "enqrhSUgaYl0",
        "outputId": "7215db1b-5a29-4606-f0d3-16d4a575df26"
      },
      "source": [
        "preparation = preparation.drop(preparation.index[20000:])\n",
        "preparation"
      ],
      "execution_count": 20,
      "outputs": [
        {
          "output_type": "execute_result",
          "data": {
            "text/html": [
              "<div>\n",
              "<style scoped>\n",
              "    .dataframe tbody tr th:only-of-type {\n",
              "        vertical-align: middle;\n",
              "    }\n",
              "\n",
              "    .dataframe tbody tr th {\n",
              "        vertical-align: top;\n",
              "    }\n",
              "\n",
              "    .dataframe thead th {\n",
              "        text-align: right;\n",
              "    }\n",
              "</style>\n",
              "<table border=\"1\" class=\"dataframe\">\n",
              "  <thead>\n",
              "    <tr style=\"text-align: right;\">\n",
              "      <th></th>\n",
              "      <th>imdb_title_id</th>\n",
              "      <th>rating</th>\n",
              "      <th>title</th>\n",
              "      <th>genre</th>\n",
              "    </tr>\n",
              "  </thead>\n",
              "  <tbody>\n",
              "    <tr>\n",
              "      <th>0</th>\n",
              "      <td>tt0000009</td>\n",
              "      <td>5.9</td>\n",
              "      <td>Miss Jerry</td>\n",
              "      <td>Romance</td>\n",
              "    </tr>\n",
              "    <tr>\n",
              "      <th>1</th>\n",
              "      <td>tt0000574</td>\n",
              "      <td>6.1</td>\n",
              "      <td>The Story of the Kelly Gang</td>\n",
              "      <td>Biography</td>\n",
              "    </tr>\n",
              "    <tr>\n",
              "      <th>2</th>\n",
              "      <td>tt0001892</td>\n",
              "      <td>5.8</td>\n",
              "      <td>Den sorte drøm</td>\n",
              "      <td>Drama</td>\n",
              "    </tr>\n",
              "    <tr>\n",
              "      <th>3</th>\n",
              "      <td>tt0002101</td>\n",
              "      <td>5.2</td>\n",
              "      <td>Cleopatra</td>\n",
              "      <td>Drama</td>\n",
              "    </tr>\n",
              "    <tr>\n",
              "      <th>4</th>\n",
              "      <td>tt0002130</td>\n",
              "      <td>7.0</td>\n",
              "      <td>L'Inferno</td>\n",
              "      <td>Adventure</td>\n",
              "    </tr>\n",
              "    <tr>\n",
              "      <th>...</th>\n",
              "      <td>...</td>\n",
              "      <td>...</td>\n",
              "      <td>...</td>\n",
              "      <td>...</td>\n",
              "    </tr>\n",
              "    <tr>\n",
              "      <th>19995</th>\n",
              "      <td>tt0082622</td>\n",
              "      <td>6.3</td>\n",
              "      <td>Knightriders</td>\n",
              "      <td>Action</td>\n",
              "    </tr>\n",
              "    <tr>\n",
              "      <th>19996</th>\n",
              "      <td>tt0082627</td>\n",
              "      <td>7.4</td>\n",
              "      <td>Kopaszkutya</td>\n",
              "      <td>Drama</td>\n",
              "    </tr>\n",
              "    <tr>\n",
              "      <th>19997</th>\n",
              "      <td>tt0082633</td>\n",
              "      <td>7.2</td>\n",
              "      <td>Kundskabens træ</td>\n",
              "      <td>Drama</td>\n",
              "    </tr>\n",
              "    <tr>\n",
              "      <th>19998</th>\n",
              "      <td>tt0082639</td>\n",
              "      <td>6.8</td>\n",
              "      <td>Ladies and Gentlemen, the Fabulous Stains</td>\n",
              "      <td>Comedy</td>\n",
              "    </tr>\n",
              "    <tr>\n",
              "      <th>19999</th>\n",
              "      <td>tt0082640</td>\n",
              "      <td>5.2</td>\n",
              "      <td>L'amante di Lady Chatterley</td>\n",
              "      <td>Drama</td>\n",
              "    </tr>\n",
              "  </tbody>\n",
              "</table>\n",
              "<p>20000 rows × 4 columns</p>\n",
              "</div>"
            ],
            "text/plain": [
              "      imdb_title_id  ...      genre\n",
              "0         tt0000009  ...    Romance\n",
              "1         tt0000574  ...  Biography\n",
              "2         tt0001892  ...      Drama\n",
              "3         tt0002101  ...      Drama\n",
              "4         tt0002130  ...  Adventure\n",
              "...             ...  ...        ...\n",
              "19995     tt0082622  ...     Action\n",
              "19996     tt0082627  ...      Drama\n",
              "19997     tt0082633  ...      Drama\n",
              "19998     tt0082639  ...     Comedy\n",
              "19999     tt0082640  ...      Drama\n",
              "\n",
              "[20000 rows x 4 columns]"
            ]
          },
          "metadata": {},
          "execution_count": 20
        }
      ]
    },
    {
      "cell_type": "markdown",
      "metadata": {
        "id": "wJKFFStjSHVx"
      },
      "source": [
        "### **Mengecek kategori genre**"
      ]
    },
    {
      "cell_type": "code",
      "metadata": {
        "colab": {
          "base_uri": "https://localhost:8080/"
        },
        "id": "khO10B8bXmE5",
        "outputId": "d7e32a22-0324-4690-b5a1-acb038bc2dd3"
      },
      "source": [
        "preparation.genre.unique()"
      ],
      "execution_count": 21,
      "outputs": [
        {
          "output_type": "execute_result",
          "data": {
            "text/plain": [
              "array(['Romance', 'Biography', 'Drama', 'Adventure', 'History', 'Crime',\n",
              "       'Western', 'Fantasy', 'Comedy', 'Horror', 'Family', 'Action',\n",
              "       'Mystery', 'Sci-Fi', 'Animation', 'Thriller', 'Musical', 'Music',\n",
              "       'War', 'Film-Noir', 'Sport', 'Adult'], dtype=object)"
            ]
          },
          "metadata": {},
          "execution_count": 21
        }
      ]
    },
    {
      "cell_type": "markdown",
      "metadata": {
        "id": "txHqdaCySOSp"
      },
      "source": [
        "### **Konversi data ke list**"
      ]
    },
    {
      "cell_type": "code",
      "metadata": {
        "colab": {
          "base_uri": "https://localhost:8080/"
        },
        "id": "AjkJF3vUYZP-",
        "outputId": "6625fff1-ead2-4364-839c-6e572d8565e1"
      },
      "source": [
        "# Mengonversi data series ‘imdb_title_id’ menjadi dalam bentuk list\n",
        "movie_id = preparation['imdb_title_id'].tolist()\n",
        " \n",
        "# Mengonversi data series ‘title’ menjadi dalam bentuk list\n",
        "movie_name = preparation['title'].tolist()\n",
        " \n",
        "# Mengonversi data series ‘genre’ menjadi dalam bentuk list\n",
        "movie_genre = preparation['genre'].tolist()\n",
        " \n",
        "print(len(movie_id))\n",
        "print(len(movie_name))\n",
        "print(len(movie_genre))"
      ],
      "execution_count": 22,
      "outputs": [
        {
          "output_type": "stream",
          "name": "stdout",
          "text": [
            "20000\n",
            "20000\n",
            "20000\n"
          ]
        }
      ]
    },
    {
      "cell_type": "markdown",
      "metadata": {
        "id": "G6Rg6PJuST35"
      },
      "source": [
        "### **Membuat dictionary**"
      ]
    },
    {
      "cell_type": "code",
      "metadata": {
        "colab": {
          "base_uri": "https://localhost:8080/",
          "height": 417
        },
        "id": "fNbH2uDiY2Nd",
        "outputId": "ea9cd00c-b5a1-4cbd-90d7-73dfe4945e27"
      },
      "source": [
        "movie_new = pd.DataFrame({\n",
        "    'id': movie_id,\n",
        "    'title': movie_name,\n",
        "    'genre': movie_genre\n",
        "})\n",
        "movie_new"
      ],
      "execution_count": 23,
      "outputs": [
        {
          "output_type": "execute_result",
          "data": {
            "text/html": [
              "<div>\n",
              "<style scoped>\n",
              "    .dataframe tbody tr th:only-of-type {\n",
              "        vertical-align: middle;\n",
              "    }\n",
              "\n",
              "    .dataframe tbody tr th {\n",
              "        vertical-align: top;\n",
              "    }\n",
              "\n",
              "    .dataframe thead th {\n",
              "        text-align: right;\n",
              "    }\n",
              "</style>\n",
              "<table border=\"1\" class=\"dataframe\">\n",
              "  <thead>\n",
              "    <tr style=\"text-align: right;\">\n",
              "      <th></th>\n",
              "      <th>id</th>\n",
              "      <th>title</th>\n",
              "      <th>genre</th>\n",
              "    </tr>\n",
              "  </thead>\n",
              "  <tbody>\n",
              "    <tr>\n",
              "      <th>0</th>\n",
              "      <td>tt0000009</td>\n",
              "      <td>Miss Jerry</td>\n",
              "      <td>Romance</td>\n",
              "    </tr>\n",
              "    <tr>\n",
              "      <th>1</th>\n",
              "      <td>tt0000574</td>\n",
              "      <td>The Story of the Kelly Gang</td>\n",
              "      <td>Biography</td>\n",
              "    </tr>\n",
              "    <tr>\n",
              "      <th>2</th>\n",
              "      <td>tt0001892</td>\n",
              "      <td>Den sorte drøm</td>\n",
              "      <td>Drama</td>\n",
              "    </tr>\n",
              "    <tr>\n",
              "      <th>3</th>\n",
              "      <td>tt0002101</td>\n",
              "      <td>Cleopatra</td>\n",
              "      <td>Drama</td>\n",
              "    </tr>\n",
              "    <tr>\n",
              "      <th>4</th>\n",
              "      <td>tt0002130</td>\n",
              "      <td>L'Inferno</td>\n",
              "      <td>Adventure</td>\n",
              "    </tr>\n",
              "    <tr>\n",
              "      <th>...</th>\n",
              "      <td>...</td>\n",
              "      <td>...</td>\n",
              "      <td>...</td>\n",
              "    </tr>\n",
              "    <tr>\n",
              "      <th>19995</th>\n",
              "      <td>tt0082622</td>\n",
              "      <td>Knightriders</td>\n",
              "      <td>Action</td>\n",
              "    </tr>\n",
              "    <tr>\n",
              "      <th>19996</th>\n",
              "      <td>tt0082627</td>\n",
              "      <td>Kopaszkutya</td>\n",
              "      <td>Drama</td>\n",
              "    </tr>\n",
              "    <tr>\n",
              "      <th>19997</th>\n",
              "      <td>tt0082633</td>\n",
              "      <td>Kundskabens træ</td>\n",
              "      <td>Drama</td>\n",
              "    </tr>\n",
              "    <tr>\n",
              "      <th>19998</th>\n",
              "      <td>tt0082639</td>\n",
              "      <td>Ladies and Gentlemen, the Fabulous Stains</td>\n",
              "      <td>Comedy</td>\n",
              "    </tr>\n",
              "    <tr>\n",
              "      <th>19999</th>\n",
              "      <td>tt0082640</td>\n",
              "      <td>L'amante di Lady Chatterley</td>\n",
              "      <td>Drama</td>\n",
              "    </tr>\n",
              "  </tbody>\n",
              "</table>\n",
              "<p>20000 rows × 3 columns</p>\n",
              "</div>"
            ],
            "text/plain": [
              "              id                                      title      genre\n",
              "0      tt0000009                                 Miss Jerry    Romance\n",
              "1      tt0000574                The Story of the Kelly Gang  Biography\n",
              "2      tt0001892                             Den sorte drøm      Drama\n",
              "3      tt0002101                                  Cleopatra      Drama\n",
              "4      tt0002130                                  L'Inferno  Adventure\n",
              "...          ...                                        ...        ...\n",
              "19995  tt0082622                               Knightriders     Action\n",
              "19996  tt0082627                                Kopaszkutya      Drama\n",
              "19997  tt0082633                            Kundskabens træ      Drama\n",
              "19998  tt0082639  Ladies and Gentlemen, the Fabulous Stains     Comedy\n",
              "19999  tt0082640                L'amante di Lady Chatterley      Drama\n",
              "\n",
              "[20000 rows x 3 columns]"
            ]
          },
          "metadata": {},
          "execution_count": 23
        }
      ]
    },
    {
      "cell_type": "markdown",
      "metadata": {
        "id": "5ln4qjQtZWyu"
      },
      "source": [
        "## **Pemodelan dengan Content Based Filtering**"
      ]
    },
    {
      "cell_type": "markdown",
      "metadata": {
        "id": "0sBeiYy4Sxpy"
      },
      "source": [
        "### **Menggunakan teknik TF-IDF Vectorizer**"
      ]
    },
    {
      "cell_type": "code",
      "metadata": {
        "colab": {
          "base_uri": "https://localhost:8080/"
        },
        "id": "f84Dmf0TZTSm",
        "outputId": "19f0f4e9-d2d3-47ee-94f1-a2ea23b9e9db"
      },
      "source": [
        "# Inisialisasi TfidfVectorizer\n",
        "tf = TfidfVectorizer()\n",
        " \n",
        "# Melakukan perhitungan idf pada movie_new genre\n",
        "tf.fit(movie_new['genre']) \n",
        " \n",
        "# Mapping array dari fitur index integer ke fitur nama\n",
        "tf.get_feature_names() "
      ],
      "execution_count": 24,
      "outputs": [
        {
          "output_type": "execute_result",
          "data": {
            "text/plain": [
              "['action',\n",
              " 'adult',\n",
              " 'adventure',\n",
              " 'animation',\n",
              " 'biography',\n",
              " 'comedy',\n",
              " 'crime',\n",
              " 'drama',\n",
              " 'family',\n",
              " 'fantasy',\n",
              " 'fi',\n",
              " 'film',\n",
              " 'history',\n",
              " 'horror',\n",
              " 'music',\n",
              " 'musical',\n",
              " 'mystery',\n",
              " 'noir',\n",
              " 'romance',\n",
              " 'sci',\n",
              " 'sport',\n",
              " 'thriller',\n",
              " 'war',\n",
              " 'western']"
            ]
          },
          "metadata": {},
          "execution_count": 24
        }
      ]
    },
    {
      "cell_type": "markdown",
      "metadata": {
        "id": "U89-QBQmS51h"
      },
      "source": [
        "### **Melakukan fit lalu ditransformasikan ke bentuk matrix**"
      ]
    },
    {
      "cell_type": "code",
      "metadata": {
        "colab": {
          "base_uri": "https://localhost:8080/"
        },
        "id": "X0hk9FCLZkg1",
        "outputId": "c58a80be-268a-4ada-9c2e-186847045ff0"
      },
      "source": [
        "tfidf_matrix = tf.fit_transform(movie_new['genre']) \n",
        " \n",
        "# Melihat ukuran matrix tfidf\n",
        "tfidf_matrix.shape "
      ],
      "execution_count": 25,
      "outputs": [
        {
          "output_type": "execute_result",
          "data": {
            "text/plain": [
              "(20000, 24)"
            ]
          },
          "metadata": {},
          "execution_count": 25
        }
      ]
    },
    {
      "cell_type": "markdown",
      "metadata": {
        "id": "UH96deGgS_Dz"
      },
      "source": [
        "### **Mengubah vektor tf-idf dalam bentuk matriks dengan fungsi todense()**"
      ]
    },
    {
      "cell_type": "code",
      "metadata": {
        "colab": {
          "base_uri": "https://localhost:8080/"
        },
        "id": "1cr5KiYpZset",
        "outputId": "83208937-a569-4bc1-a480-6158b4198588"
      },
      "source": [
        "tfidf_matrix.todense()"
      ],
      "execution_count": 26,
      "outputs": [
        {
          "output_type": "execute_result",
          "data": {
            "text/plain": [
              "matrix([[0., 0., 0., ..., 0., 0., 0.],\n",
              "        [0., 0., 0., ..., 0., 0., 0.],\n",
              "        [0., 0., 0., ..., 0., 0., 0.],\n",
              "        ...,\n",
              "        [0., 0., 0., ..., 0., 0., 0.],\n",
              "        [0., 0., 0., ..., 0., 0., 0.],\n",
              "        [0., 0., 0., ..., 0., 0., 0.]])"
            ]
          },
          "metadata": {},
          "execution_count": 26
        }
      ]
    },
    {
      "cell_type": "markdown",
      "metadata": {
        "id": "SDTW_IpBTFEo"
      },
      "source": [
        "### **Membuat dataframe untuk melihat tf-idf matrix**"
      ]
    },
    {
      "cell_type": "code",
      "metadata": {
        "colab": {
          "base_uri": "https://localhost:8080/",
          "height": 690
        },
        "id": "pfCJGjucZwMv",
        "outputId": "cf957a64-e399-49a1-e9a0-2ea8e685e9ce"
      },
      "source": [
        "pd.DataFrame(\n",
        "    tfidf_matrix.todense(), \n",
        "    columns=tf.get_feature_names(),\n",
        "    index=movie_new.title\n",
        ").sample(22, axis=1).sample(10, axis=0)"
      ],
      "execution_count": 27,
      "outputs": [
        {
          "output_type": "execute_result",
          "data": {
            "text/html": [
              "<div>\n",
              "<style scoped>\n",
              "    .dataframe tbody tr th:only-of-type {\n",
              "        vertical-align: middle;\n",
              "    }\n",
              "\n",
              "    .dataframe tbody tr th {\n",
              "        vertical-align: top;\n",
              "    }\n",
              "\n",
              "    .dataframe thead th {\n",
              "        text-align: right;\n",
              "    }\n",
              "</style>\n",
              "<table border=\"1\" class=\"dataframe\">\n",
              "  <thead>\n",
              "    <tr style=\"text-align: right;\">\n",
              "      <th></th>\n",
              "      <th>fantasy</th>\n",
              "      <th>animation</th>\n",
              "      <th>film</th>\n",
              "      <th>history</th>\n",
              "      <th>fi</th>\n",
              "      <th>musical</th>\n",
              "      <th>romance</th>\n",
              "      <th>family</th>\n",
              "      <th>noir</th>\n",
              "      <th>horror</th>\n",
              "      <th>thriller</th>\n",
              "      <th>sci</th>\n",
              "      <th>biography</th>\n",
              "      <th>sport</th>\n",
              "      <th>action</th>\n",
              "      <th>comedy</th>\n",
              "      <th>drama</th>\n",
              "      <th>western</th>\n",
              "      <th>war</th>\n",
              "      <th>adventure</th>\n",
              "      <th>mystery</th>\n",
              "      <th>music</th>\n",
              "    </tr>\n",
              "    <tr>\n",
              "      <th>title</th>\n",
              "      <th></th>\n",
              "      <th></th>\n",
              "      <th></th>\n",
              "      <th></th>\n",
              "      <th></th>\n",
              "      <th></th>\n",
              "      <th></th>\n",
              "      <th></th>\n",
              "      <th></th>\n",
              "      <th></th>\n",
              "      <th></th>\n",
              "      <th></th>\n",
              "      <th></th>\n",
              "      <th></th>\n",
              "      <th></th>\n",
              "      <th></th>\n",
              "      <th></th>\n",
              "      <th></th>\n",
              "      <th></th>\n",
              "      <th></th>\n",
              "      <th></th>\n",
              "      <th></th>\n",
              "    </tr>\n",
              "  </thead>\n",
              "  <tbody>\n",
              "    <tr>\n",
              "      <th>Camelot</th>\n",
              "      <td>0.0</td>\n",
              "      <td>0.0</td>\n",
              "      <td>0.0</td>\n",
              "      <td>0.0</td>\n",
              "      <td>0.0</td>\n",
              "      <td>0.0</td>\n",
              "      <td>0.0</td>\n",
              "      <td>0.0</td>\n",
              "      <td>0.0</td>\n",
              "      <td>0.0</td>\n",
              "      <td>0.0</td>\n",
              "      <td>0.0</td>\n",
              "      <td>0.0</td>\n",
              "      <td>0.0</td>\n",
              "      <td>0.0</td>\n",
              "      <td>0.0</td>\n",
              "      <td>0.0</td>\n",
              "      <td>0.0</td>\n",
              "      <td>0.0</td>\n",
              "      <td>1.0</td>\n",
              "      <td>0.0</td>\n",
              "      <td>0.0</td>\n",
              "    </tr>\n",
              "    <tr>\n",
              "      <th>Gli eroi dell'isola</th>\n",
              "      <td>0.0</td>\n",
              "      <td>0.0</td>\n",
              "      <td>0.0</td>\n",
              "      <td>0.0</td>\n",
              "      <td>0.0</td>\n",
              "      <td>0.0</td>\n",
              "      <td>0.0</td>\n",
              "      <td>0.0</td>\n",
              "      <td>0.0</td>\n",
              "      <td>0.0</td>\n",
              "      <td>0.0</td>\n",
              "      <td>0.0</td>\n",
              "      <td>0.0</td>\n",
              "      <td>0.0</td>\n",
              "      <td>0.0</td>\n",
              "      <td>0.0</td>\n",
              "      <td>0.0</td>\n",
              "      <td>0.0</td>\n",
              "      <td>0.0</td>\n",
              "      <td>1.0</td>\n",
              "      <td>0.0</td>\n",
              "      <td>0.0</td>\n",
              "    </tr>\n",
              "    <tr>\n",
              "      <th>The Falcon in Hollywood</th>\n",
              "      <td>0.0</td>\n",
              "      <td>0.0</td>\n",
              "      <td>0.0</td>\n",
              "      <td>0.0</td>\n",
              "      <td>0.0</td>\n",
              "      <td>0.0</td>\n",
              "      <td>0.0</td>\n",
              "      <td>0.0</td>\n",
              "      <td>0.0</td>\n",
              "      <td>0.0</td>\n",
              "      <td>0.0</td>\n",
              "      <td>0.0</td>\n",
              "      <td>0.0</td>\n",
              "      <td>0.0</td>\n",
              "      <td>0.0</td>\n",
              "      <td>0.0</td>\n",
              "      <td>0.0</td>\n",
              "      <td>0.0</td>\n",
              "      <td>0.0</td>\n",
              "      <td>0.0</td>\n",
              "      <td>0.0</td>\n",
              "      <td>0.0</td>\n",
              "    </tr>\n",
              "    <tr>\n",
              "      <th>Las flores del vicio</th>\n",
              "      <td>0.0</td>\n",
              "      <td>0.0</td>\n",
              "      <td>0.0</td>\n",
              "      <td>0.0</td>\n",
              "      <td>0.0</td>\n",
              "      <td>0.0</td>\n",
              "      <td>0.0</td>\n",
              "      <td>0.0</td>\n",
              "      <td>0.0</td>\n",
              "      <td>0.0</td>\n",
              "      <td>0.0</td>\n",
              "      <td>0.0</td>\n",
              "      <td>0.0</td>\n",
              "      <td>0.0</td>\n",
              "      <td>0.0</td>\n",
              "      <td>0.0</td>\n",
              "      <td>1.0</td>\n",
              "      <td>0.0</td>\n",
              "      <td>0.0</td>\n",
              "      <td>0.0</td>\n",
              "      <td>0.0</td>\n",
              "      <td>0.0</td>\n",
              "    </tr>\n",
              "    <tr>\n",
              "      <th>Dalle Ardenne all'inferno</th>\n",
              "      <td>0.0</td>\n",
              "      <td>0.0</td>\n",
              "      <td>0.0</td>\n",
              "      <td>0.0</td>\n",
              "      <td>0.0</td>\n",
              "      <td>0.0</td>\n",
              "      <td>0.0</td>\n",
              "      <td>0.0</td>\n",
              "      <td>0.0</td>\n",
              "      <td>0.0</td>\n",
              "      <td>0.0</td>\n",
              "      <td>0.0</td>\n",
              "      <td>0.0</td>\n",
              "      <td>0.0</td>\n",
              "      <td>0.0</td>\n",
              "      <td>0.0</td>\n",
              "      <td>1.0</td>\n",
              "      <td>0.0</td>\n",
              "      <td>0.0</td>\n",
              "      <td>0.0</td>\n",
              "      <td>0.0</td>\n",
              "      <td>0.0</td>\n",
              "    </tr>\n",
              "    <tr>\n",
              "      <th>Mean Streets - Domenica in chiesa, lunedì all'inferno</th>\n",
              "      <td>0.0</td>\n",
              "      <td>0.0</td>\n",
              "      <td>0.0</td>\n",
              "      <td>0.0</td>\n",
              "      <td>0.0</td>\n",
              "      <td>0.0</td>\n",
              "      <td>0.0</td>\n",
              "      <td>0.0</td>\n",
              "      <td>0.0</td>\n",
              "      <td>0.0</td>\n",
              "      <td>0.0</td>\n",
              "      <td>0.0</td>\n",
              "      <td>0.0</td>\n",
              "      <td>0.0</td>\n",
              "      <td>0.0</td>\n",
              "      <td>0.0</td>\n",
              "      <td>0.0</td>\n",
              "      <td>0.0</td>\n",
              "      <td>0.0</td>\n",
              "      <td>0.0</td>\n",
              "      <td>0.0</td>\n",
              "      <td>0.0</td>\n",
              "    </tr>\n",
              "    <tr>\n",
              "      <th>3 delitti per padre Brown</th>\n",
              "      <td>0.0</td>\n",
              "      <td>0.0</td>\n",
              "      <td>0.0</td>\n",
              "      <td>0.0</td>\n",
              "      <td>0.0</td>\n",
              "      <td>0.0</td>\n",
              "      <td>0.0</td>\n",
              "      <td>0.0</td>\n",
              "      <td>0.0</td>\n",
              "      <td>0.0</td>\n",
              "      <td>0.0</td>\n",
              "      <td>0.0</td>\n",
              "      <td>0.0</td>\n",
              "      <td>0.0</td>\n",
              "      <td>0.0</td>\n",
              "      <td>1.0</td>\n",
              "      <td>0.0</td>\n",
              "      <td>0.0</td>\n",
              "      <td>0.0</td>\n",
              "      <td>0.0</td>\n",
              "      <td>0.0</td>\n",
              "      <td>0.0</td>\n",
              "    </tr>\n",
              "    <tr>\n",
              "      <th>Oggi sposi</th>\n",
              "      <td>0.0</td>\n",
              "      <td>0.0</td>\n",
              "      <td>0.0</td>\n",
              "      <td>0.0</td>\n",
              "      <td>0.0</td>\n",
              "      <td>0.0</td>\n",
              "      <td>0.0</td>\n",
              "      <td>0.0</td>\n",
              "      <td>0.0</td>\n",
              "      <td>0.0</td>\n",
              "      <td>0.0</td>\n",
              "      <td>0.0</td>\n",
              "      <td>0.0</td>\n",
              "      <td>0.0</td>\n",
              "      <td>0.0</td>\n",
              "      <td>1.0</td>\n",
              "      <td>0.0</td>\n",
              "      <td>0.0</td>\n",
              "      <td>0.0</td>\n",
              "      <td>0.0</td>\n",
              "      <td>0.0</td>\n",
              "      <td>0.0</td>\n",
              "    </tr>\n",
              "    <tr>\n",
              "      <th>Le deportate della sezione speciale SS</th>\n",
              "      <td>0.0</td>\n",
              "      <td>0.0</td>\n",
              "      <td>0.0</td>\n",
              "      <td>0.0</td>\n",
              "      <td>0.0</td>\n",
              "      <td>0.0</td>\n",
              "      <td>0.0</td>\n",
              "      <td>0.0</td>\n",
              "      <td>0.0</td>\n",
              "      <td>0.0</td>\n",
              "      <td>0.0</td>\n",
              "      <td>0.0</td>\n",
              "      <td>0.0</td>\n",
              "      <td>0.0</td>\n",
              "      <td>0.0</td>\n",
              "      <td>0.0</td>\n",
              "      <td>1.0</td>\n",
              "      <td>0.0</td>\n",
              "      <td>0.0</td>\n",
              "      <td>0.0</td>\n",
              "      <td>0.0</td>\n",
              "      <td>0.0</td>\n",
              "    </tr>\n",
              "    <tr>\n",
              "      <th>César</th>\n",
              "      <td>0.0</td>\n",
              "      <td>0.0</td>\n",
              "      <td>0.0</td>\n",
              "      <td>0.0</td>\n",
              "      <td>0.0</td>\n",
              "      <td>0.0</td>\n",
              "      <td>0.0</td>\n",
              "      <td>0.0</td>\n",
              "      <td>0.0</td>\n",
              "      <td>0.0</td>\n",
              "      <td>0.0</td>\n",
              "      <td>0.0</td>\n",
              "      <td>0.0</td>\n",
              "      <td>0.0</td>\n",
              "      <td>0.0</td>\n",
              "      <td>0.0</td>\n",
              "      <td>1.0</td>\n",
              "      <td>0.0</td>\n",
              "      <td>0.0</td>\n",
              "      <td>0.0</td>\n",
              "      <td>0.0</td>\n",
              "      <td>0.0</td>\n",
              "    </tr>\n",
              "  </tbody>\n",
              "</table>\n",
              "</div>"
            ],
            "text/plain": [
              "                                                    fantasy  ...  music\n",
              "title                                                        ...       \n",
              "Camelot                                                 0.0  ...    0.0\n",
              "Gli eroi dell'isola                                     0.0  ...    0.0\n",
              "The Falcon in Hollywood                                 0.0  ...    0.0\n",
              "Las flores del vicio                                    0.0  ...    0.0\n",
              "Dalle Ardenne all'inferno                               0.0  ...    0.0\n",
              "Mean Streets - Domenica in chiesa, lunedì all'i...      0.0  ...    0.0\n",
              "3 delitti per padre Brown                               0.0  ...    0.0\n",
              "Oggi sposi                                              0.0  ...    0.0\n",
              "Le deportate della sezione speciale SS                  0.0  ...    0.0\n",
              "César                                                   0.0  ...    0.0\n",
              "\n",
              "[10 rows x 22 columns]"
            ]
          },
          "metadata": {},
          "execution_count": 27
        }
      ]
    },
    {
      "cell_type": "markdown",
      "metadata": {
        "id": "vLGtqgS7TKg7"
      },
      "source": [
        "### **Menghitung cosine similarity pada matrix tf-idf**"
      ]
    },
    {
      "cell_type": "code",
      "metadata": {
        "colab": {
          "base_uri": "https://localhost:8080/"
        },
        "id": "Ta6Q7E0JZ69q",
        "outputId": "e0c36940-af28-46b8-d7ff-2ef3e22bf641"
      },
      "source": [
        "cosine_sim = cosine_similarity(tfidf_matrix) \n",
        "cosine_sim"
      ],
      "execution_count": 28,
      "outputs": [
        {
          "output_type": "execute_result",
          "data": {
            "text/plain": [
              "array([[1., 0., 0., ..., 0., 0., 0.],\n",
              "       [0., 1., 0., ..., 0., 0., 0.],\n",
              "       [0., 0., 1., ..., 1., 0., 1.],\n",
              "       ...,\n",
              "       [0., 0., 1., ..., 1., 0., 1.],\n",
              "       [0., 0., 0., ..., 0., 1., 0.],\n",
              "       [0., 0., 1., ..., 1., 0., 1.]])"
            ]
          },
          "metadata": {},
          "execution_count": 28
        }
      ]
    },
    {
      "cell_type": "markdown",
      "metadata": {
        "id": "tNSOnIYFTRTR"
      },
      "source": [
        "### **Membuat dataframe dari variabel cosine_sim**"
      ]
    },
    {
      "cell_type": "code",
      "metadata": {
        "colab": {
          "base_uri": "https://localhost:8080/",
          "height": 406
        },
        "id": "rLYO8rJob_e7",
        "outputId": "db56c2ee-ae2e-4974-b508-a9e218207ffc"
      },
      "source": [
        "# baris dan kolom nama film\n",
        "cosine_sim_df = pd.DataFrame(cosine_sim, index=movie_new['title'], columns=movie_new['title'])\n",
        "print('Shape:', cosine_sim_df.shape)\n",
        " \n",
        "# Melihat similarity matrix pada setiap resto\n",
        "cosine_sim_df.sample(5, axis=1).sample(10, axis=0)"
      ],
      "execution_count": 29,
      "outputs": [
        {
          "output_type": "stream",
          "name": "stdout",
          "text": [
            "Shape: (20000, 20000)\n"
          ]
        },
        {
          "output_type": "execute_result",
          "data": {
            "text/html": [
              "<div>\n",
              "<style scoped>\n",
              "    .dataframe tbody tr th:only-of-type {\n",
              "        vertical-align: middle;\n",
              "    }\n",
              "\n",
              "    .dataframe tbody tr th {\n",
              "        vertical-align: top;\n",
              "    }\n",
              "\n",
              "    .dataframe thead th {\n",
              "        text-align: right;\n",
              "    }\n",
              "</style>\n",
              "<table border=\"1\" class=\"dataframe\">\n",
              "  <thead>\n",
              "    <tr style=\"text-align: right;\">\n",
              "      <th>title</th>\n",
              "      <th>Stagecoach Kid</th>\n",
              "      <th>Mi querida señorita</th>\n",
              "      <th>Criminal Face - Storia di un criminale</th>\n",
              "      <th>Anno 2118: progetto X</th>\n",
              "      <th>Osen</th>\n",
              "    </tr>\n",
              "    <tr>\n",
              "      <th>title</th>\n",
              "      <th></th>\n",
              "      <th></th>\n",
              "      <th></th>\n",
              "      <th></th>\n",
              "      <th></th>\n",
              "    </tr>\n",
              "  </thead>\n",
              "  <tbody>\n",
              "    <tr>\n",
              "      <th>Come rubai mia moglie</th>\n",
              "      <td>0.0</td>\n",
              "      <td>0.0</td>\n",
              "      <td>0.0</td>\n",
              "      <td>0.0</td>\n",
              "      <td>0.0</td>\n",
              "    </tr>\n",
              "    <tr>\n",
              "      <th>Gold - il segno del potere</th>\n",
              "      <td>0.0</td>\n",
              "      <td>0.0</td>\n",
              "      <td>0.0</td>\n",
              "      <td>0.0</td>\n",
              "      <td>0.0</td>\n",
              "    </tr>\n",
              "    <tr>\n",
              "      <th>L'indossatrice</th>\n",
              "      <td>0.0</td>\n",
              "      <td>0.0</td>\n",
              "      <td>0.0</td>\n",
              "      <td>0.0</td>\n",
              "      <td>0.0</td>\n",
              "    </tr>\n",
              "    <tr>\n",
              "      <th>S*P*Y*S</th>\n",
              "      <td>1.0</td>\n",
              "      <td>0.0</td>\n",
              "      <td>0.0</td>\n",
              "      <td>0.0</td>\n",
              "      <td>0.0</td>\n",
              "    </tr>\n",
              "    <tr>\n",
              "      <th>I quattro diavoli</th>\n",
              "      <td>0.0</td>\n",
              "      <td>0.0</td>\n",
              "      <td>0.0</td>\n",
              "      <td>0.0</td>\n",
              "      <td>0.0</td>\n",
              "    </tr>\n",
              "    <tr>\n",
              "      <th>Una giornata spesa bene</th>\n",
              "      <td>0.0</td>\n",
              "      <td>0.0</td>\n",
              "      <td>0.0</td>\n",
              "      <td>0.0</td>\n",
              "      <td>0.0</td>\n",
              "    </tr>\n",
              "    <tr>\n",
              "      <th>Every Afternoon</th>\n",
              "      <td>0.0</td>\n",
              "      <td>0.0</td>\n",
              "      <td>0.0</td>\n",
              "      <td>0.0</td>\n",
              "      <td>0.0</td>\n",
              "    </tr>\n",
              "    <tr>\n",
              "      <th>The Hoodlum</th>\n",
              "      <td>0.0</td>\n",
              "      <td>0.0</td>\n",
              "      <td>0.0</td>\n",
              "      <td>0.0</td>\n",
              "      <td>0.0</td>\n",
              "    </tr>\n",
              "    <tr>\n",
              "      <th>Testa o croce</th>\n",
              "      <td>0.0</td>\n",
              "      <td>0.0</td>\n",
              "      <td>0.0</td>\n",
              "      <td>0.0</td>\n",
              "      <td>0.0</td>\n",
              "    </tr>\n",
              "    <tr>\n",
              "      <th>La dérobade - Vita e rabbia di una prostituta parigina</th>\n",
              "      <td>0.0</td>\n",
              "      <td>0.0</td>\n",
              "      <td>0.0</td>\n",
              "      <td>0.0</td>\n",
              "      <td>0.0</td>\n",
              "    </tr>\n",
              "  </tbody>\n",
              "</table>\n",
              "</div>"
            ],
            "text/plain": [
              "title                                               Stagecoach Kid  ...  Osen\n",
              "title                                                               ...      \n",
              "Come rubai mia moglie                                          0.0  ...   0.0\n",
              "Gold - il segno del potere                                     0.0  ...   0.0\n",
              "L'indossatrice                                                 0.0  ...   0.0\n",
              "S*P*Y*S                                                        1.0  ...   0.0\n",
              "I quattro diavoli                                              0.0  ...   0.0\n",
              "Una giornata spesa bene                                        0.0  ...   0.0\n",
              "Every Afternoon                                                0.0  ...   0.0\n",
              "The Hoodlum                                                    0.0  ...   0.0\n",
              "Testa o croce                                                  0.0  ...   0.0\n",
              "La dérobade - Vita e rabbia di una prostituta p...             0.0  ...   0.0\n",
              "\n",
              "[10 rows x 5 columns]"
            ]
          },
          "metadata": {},
          "execution_count": 29
        }
      ]
    },
    {
      "cell_type": "markdown",
      "metadata": {
        "id": "idJQQBkmTnlB"
      },
      "source": [
        "### **Membuat fungsi movie_recommendations**"
      ]
    },
    {
      "cell_type": "code",
      "metadata": {
        "id": "w-QUhEmZbmib"
      },
      "source": [
        "def movie_recommendations(movie_name, similarity_data=cosine_sim_df, items=movie_new[['title', 'genre']], k=10):\n",
        "    # Mengambil data dengan menggunakan argpartition untuk melakukan partisi secara tidak langsung sepanjang sumbu yang diberikan    \n",
        "    # Dataframe diubah menjadi numpy\n",
        "    # Range(start, stop, step)\n",
        "    index = similarity_data.loc[:,movie_name].to_numpy().argpartition(\n",
        "        range(-1, -k, -1))\n",
        "    \n",
        "    # Mengambil data dengan similarity terbesar dari index yang ada\n",
        "    closest = similarity_data.columns[index[-1:-(k+2):-1]]\n",
        "    \n",
        "    # Drop movie_name agar nama film yang dicari tidak muncul dalam daftar rekomendasi\n",
        "    closest = closest.drop(movie_name, errors='ignore')\n",
        " \n",
        "    return pd.DataFrame(closest).merge(items).head(k)"
      ],
      "execution_count": 30,
      "outputs": []
    },
    {
      "cell_type": "markdown",
      "metadata": {
        "id": "XKRhIpZyUO9w"
      },
      "source": [
        "### **Evaluation**"
      ]
    },
    {
      "cell_type": "code",
      "metadata": {
        "colab": {
          "base_uri": "https://localhost:8080/",
          "height": 80
        },
        "id": "qTKbdkE7cSE1",
        "outputId": "b86b0757-6617-4bc8-eb4a-2fae1292908f"
      },
      "source": [
        "movie_new[movie_new.title.eq('Ginger')]"
      ],
      "execution_count": 31,
      "outputs": [
        {
          "output_type": "execute_result",
          "data": {
            "text/html": [
              "<div>\n",
              "<style scoped>\n",
              "    .dataframe tbody tr th:only-of-type {\n",
              "        vertical-align: middle;\n",
              "    }\n",
              "\n",
              "    .dataframe tbody tr th {\n",
              "        vertical-align: top;\n",
              "    }\n",
              "\n",
              "    .dataframe thead th {\n",
              "        text-align: right;\n",
              "    }\n",
              "</style>\n",
              "<table border=\"1\" class=\"dataframe\">\n",
              "  <thead>\n",
              "    <tr style=\"text-align: right;\">\n",
              "      <th></th>\n",
              "      <th>id</th>\n",
              "      <th>title</th>\n",
              "      <th>genre</th>\n",
              "    </tr>\n",
              "  </thead>\n",
              "  <tbody>\n",
              "    <tr>\n",
              "      <th>14967</th>\n",
              "      <td>tt0067133</td>\n",
              "      <td>Ginger</td>\n",
              "      <td>Action</td>\n",
              "    </tr>\n",
              "  </tbody>\n",
              "</table>\n",
              "</div>"
            ],
            "text/plain": [
              "              id   title   genre\n",
              "14967  tt0067133  Ginger  Action"
            ]
          },
          "metadata": {},
          "execution_count": 31
        }
      ]
    },
    {
      "cell_type": "code",
      "metadata": {
        "colab": {
          "base_uri": "https://localhost:8080/",
          "height": 357
        },
        "id": "DA73D4r3c-_v",
        "outputId": "2fd8ae67-554f-4cc7-bcc1-e696c580454e"
      },
      "source": [
        "# Mendapatkan rekomendasi film yang mirip dengan Ginger\n",
        "movie_recommendations('Ginger')"
      ],
      "execution_count": 32,
      "outputs": [
        {
          "output_type": "execute_result",
          "data": {
            "text/html": [
              "<div>\n",
              "<style scoped>\n",
              "    .dataframe tbody tr th:only-of-type {\n",
              "        vertical-align: middle;\n",
              "    }\n",
              "\n",
              "    .dataframe tbody tr th {\n",
              "        vertical-align: top;\n",
              "    }\n",
              "\n",
              "    .dataframe thead th {\n",
              "        text-align: right;\n",
              "    }\n",
              "</style>\n",
              "<table border=\"1\" class=\"dataframe\">\n",
              "  <thead>\n",
              "    <tr style=\"text-align: right;\">\n",
              "      <th></th>\n",
              "      <th>title</th>\n",
              "      <th>genre</th>\n",
              "    </tr>\n",
              "  </thead>\n",
              "  <tbody>\n",
              "    <tr>\n",
              "      <th>0</th>\n",
              "      <td>Piedone l'africano</td>\n",
              "      <td>Action</td>\n",
              "    </tr>\n",
              "    <tr>\n",
              "      <th>1</th>\n",
              "      <td>Il corsaro della Giamaica</td>\n",
              "      <td>Action</td>\n",
              "    </tr>\n",
              "    <tr>\n",
              "      <th>2</th>\n",
              "      <td>Agente 007 - Licenza di uccidere</td>\n",
              "      <td>Action</td>\n",
              "    </tr>\n",
              "    <tr>\n",
              "      <th>3</th>\n",
              "      <td>La frontiera senza legge</td>\n",
              "      <td>Action</td>\n",
              "    </tr>\n",
              "    <tr>\n",
              "      <th>4</th>\n",
              "      <td>Tien ya ming yue dao</td>\n",
              "      <td>Action</td>\n",
              "    </tr>\n",
              "    <tr>\n",
              "      <th>5</th>\n",
              "      <td>Polizia militare</td>\n",
              "      <td>Action</td>\n",
              "    </tr>\n",
              "    <tr>\n",
              "      <th>6</th>\n",
              "      <td>Samantha Fox missione Manila</td>\n",
              "      <td>Action</td>\n",
              "    </tr>\n",
              "    <tr>\n",
              "      <th>7</th>\n",
              "      <td>Come on Danger</td>\n",
              "      <td>Action</td>\n",
              "    </tr>\n",
              "    <tr>\n",
              "      <th>8</th>\n",
              "      <td>La spia che non fece ritorno</td>\n",
              "      <td>Action</td>\n",
              "    </tr>\n",
              "    <tr>\n",
              "      <th>9</th>\n",
              "      <td>Naviganti coraggiosi</td>\n",
              "      <td>Action</td>\n",
              "    </tr>\n",
              "  </tbody>\n",
              "</table>\n",
              "</div>"
            ],
            "text/plain": [
              "                              title   genre\n",
              "0                Piedone l'africano  Action\n",
              "1         Il corsaro della Giamaica  Action\n",
              "2  Agente 007 - Licenza di uccidere  Action\n",
              "3          La frontiera senza legge  Action\n",
              "4              Tien ya ming yue dao  Action\n",
              "5                  Polizia militare  Action\n",
              "6      Samantha Fox missione Manila  Action\n",
              "7                    Come on Danger  Action\n",
              "8      La spia che non fece ritorno  Action\n",
              "9              Naviganti coraggiosi  Action"
            ]
          },
          "metadata": {},
          "execution_count": 32
        }
      ]
    }
  ]
}